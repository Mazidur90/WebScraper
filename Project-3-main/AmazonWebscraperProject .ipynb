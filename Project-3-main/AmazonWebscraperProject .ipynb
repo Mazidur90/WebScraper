{
 "cells": [
  {
   "cell_type": "code",
   "execution_count": 1,
   "id": "c7cd9434-84e9-4c4c-8f2f-6e02200ca747",
   "metadata": {},
   "outputs": [],
   "source": [
    "from bs4 import BeautifulSoup\n",
    "import requests\n",
    "import smtplib\n",
    "import time\n",
    "import datetime\n",
    "\n",
    "import smtplib"
   ]
  },
  {
   "cell_type": "code",
   "execution_count": 2,
   "id": "56862dc6-b8f5-402d-a368-dea52dc99608",
   "metadata": {},
   "outputs": [
    {
     "name": "stdout",
     "output_type": "stream",
     "text": [
      "\n",
      "                   Funny Got Data Humor MIS Datensysteme Business Analyster T-Shirt\n",
      "                  \n",
      "\n",
      "\n",
      "\n",
      "\n",
      "\n",
      "                  17,95€\n",
      "                 \n",
      "\n",
      "\n",
      "                   17\n",
      "                   \n",
      "                    ,\n",
      "                   \n",
      "\n",
      "\n",
      "                   95\n",
      "                  \n",
      "\n",
      "                   €\n",
      "                  \n",
      "\n",
      "\n",
      "\n",
      "\n",
      "\n",
      "\n",
      "\n",
      "\n",
      "\n",
      "\n",
      "\n",
      "\n"
     ]
    }
   ],
   "source": [
    "# connecting to website \n",
    "\n",
    "URL = 'https://www.amazon.de/Funny-Systeme-Business-Analyst-T-Shirt/dp/B09Y8WX4KG/ref=sr_1_1_sspa?crid=2UCKNONADCFNT&keywords=got+data+t+shirt&qid=1667301798&qu=eyJxc2MiOiIxLjU3IiwicXNhIjoiMC4wMCIsInFzcCI6IjAuMDAifQ%3D%3D&sprefix=got+data+t+shirt%2Caps%2C72&sr=8-1-spons&psc=1'\n",
    "headers = {\"User-Agent\": \"Mozilla/5.0 (Windows NT 10.0; Win64; x64) AppleWebKit/537.36 (KHTML, like Gecko) Chrome/107.0.0.0 Safari/537.36 Edg/107.0.1418.26\"}\n",
    "page  =requests.get(URL,headers=headers)\n",
    "soup1 = BeautifulSoup(page.content,\"html.parser\")\n",
    "soup2 =BeautifulSoup(soup1.prettify(),\"html.parser\")\n",
    "title = soup2.find(id='productTitle').get_text()\n",
    "price = soup2.find(id='corePriceDisplay_desktop_feature_div').get_text()\n",
    "print(title)\n",
    "print(price)"
   ]
  },
  {
   "cell_type": "code",
   "execution_count": 3,
   "id": "fdfeacf3-9188-40ca-be46-b367d8d4077f",
   "metadata": {},
   "outputs": [
    {
     "data": {
      "text/plain": [
       "'17,95€\\n                 \\n\\n\\n                   17\\n                   \\n                    ,\\n                   \\n\\n\\n                   95\\n                  \\n\\n                   €'"
      ]
     },
     "execution_count": 3,
     "metadata": {},
     "output_type": "execute_result"
    }
   ],
   "source": [
    "price.strip()"
   ]
  },
  {
   "cell_type": "code",
   "execution_count": 4,
   "id": "4b954fb9-9fb0-4c1e-9cf5-8188471db7c2",
   "metadata": {},
   "outputs": [
    {
     "name": "stdout",
     "output_type": "stream",
     "text": [
      "Funny Got Data Humor MIS Datensysteme Business Analyster T-Shirt\n",
      "17,95\n"
     ]
    }
   ],
   "source": [
    "price= price.strip()[:5]\n",
    "title = title.strip()\n",
    "print(title)\n",
    "print(price)\n"
   ]
  },
  {
   "cell_type": "code",
   "execution_count": 5,
   "id": "ae230cf3-5bfb-4f15-83e8-2211b603f43a",
   "metadata": {},
   "outputs": [
    {
     "data": {
      "text/plain": [
       "list"
      ]
     },
     "execution_count": 5,
     "metadata": {},
     "output_type": "execute_result"
    }
   ],
   "source": [
    "import csv\n",
    "header=['Title','Price']\n",
    "data= [title,price]\n",
    "type(data)"
   ]
  },
  {
   "cell_type": "code",
   "execution_count": 6,
   "id": "d8674eb9-2155-464c-8986-41e13e527a8e",
   "metadata": {},
   "outputs": [
    {
     "name": "stdout",
     "output_type": "stream",
     "text": [
      "2022-11-01\n"
     ]
    }
   ],
   "source": [
    "import datetime\n",
    "\n",
    "today= datetime.date.today()\n",
    "print(today)"
   ]
  },
  {
   "cell_type": "code",
   "execution_count": 8,
   "id": "3fde6872-f74f-4853-86b4-92bd4883a219",
   "metadata": {},
   "outputs": [],
   "source": [
    "import csv\n",
    "header=['Title','Price','date']\n",
    "data= [title,price,today]\n",
    "\n",
    "with open('AmazonWebScraperDataset.csv','w', newline='',encoding='UTF8') as f:\n",
    "    writer= csv.writer(f)\n",
    "    writer.writerow(header)\n",
    "    writer.writerow(data)\n",
    "    #not to run this again as it will delete all my data\n",
    "    "
   ]
  },
  {
   "cell_type": "code",
   "execution_count": 9,
   "id": "de6f3678-1e78-42c4-9c2a-53c29a84e0f1",
   "metadata": {},
   "outputs": [
    {
     "name": "stdout",
     "output_type": "stream",
     "text": [
      "                                               Title  Price        date\n",
      "0  Funny Got Data Humor MIS Datensysteme Business...  17,95  2022-11-01\n"
     ]
    }
   ],
   "source": [
    "import pandas as pd\n",
    "dataF= pd.read_csv(r'C:\\Users\\Divyesh Jayswal\\AmazonWebScraperDataset.csv')\n",
    "print(dataF)\n"
   ]
  },
  {
   "cell_type": "code",
   "execution_count": 10,
   "id": "ad9cd8dd-e7db-440a-a6e5-f415f7b4fdf1",
   "metadata": {},
   "outputs": [],
   "source": [
    "#now appending data to the csv\n",
    "with open('AmazonWebScraperDataset.csv','a+', newline='',encoding='UTF8') as f:\n",
    "    writer= csv.writer(f)\n",
    "    writer.writerow(data)\n",
    "    "
   ]
  },
  {
   "cell_type": "code",
   "execution_count": 11,
   "id": "dcfab4f0-169c-478d-bc3c-16122ce60b71",
   "metadata": {},
   "outputs": [
    {
     "name": "stdout",
     "output_type": "stream",
     "text": [
      "                                               Title  Price        date\n",
      "0  Funny Got Data Humor MIS Datensysteme Business...  17,95  2022-11-01\n",
      "1  Funny Got Data Humor MIS Datensysteme Business...  17,95  2022-11-01\n"
     ]
    }
   ],
   "source": [
    "import pandas as pd\n",
    "dataF= pd.read_csv(r'C:\\Users\\Divyesh Jayswal\\AmazonWebScraperDataset.csv')\n",
    "print(dataF)"
   ]
  },
  {
   "cell_type": "code",
   "execution_count": 12,
   "id": "f3c28cb7-1e3e-4937-b14d-201f790ec6ee",
   "metadata": {},
   "outputs": [],
   "source": [
    "def check_price():\n",
    "    URL = 'https://www.amazon.de/Funny-Systeme-Business-Analyst-T-Shirt/dp/B09Y8WX4KG/ref=sr_1_1_sspa?crid=2UCKNONADCFNT&keywords=got+data+t+shirt&qid=1667301798&qu=eyJxc2MiOiIxLjU3IiwicXNhIjoiMC4wMCIsInFzcCI6IjAuMDAifQ%3D%3D&sprefix=got+data+t+shirt%2Caps%2C72&sr=8-1-spons&psc=1'\n",
    "    headers = {\"User-Agent\": \"Mozilla/5.0 (Windows NT 10.0; Win64; x64) AppleWebKit/537.36 (KHTML, like Gecko) Chrome/107.0.0.0 Safari/537.36 Edg/107.0.1418.26\"}\n",
    "    page  =requests.get(URL,headers=headers)\n",
    "    soup1 = BeautifulSoup(page.content,\"html.parser\")\n",
    "    soup2 =BeautifulSoup(soup1.prettify(),\"html.parser\")\n",
    "    title = soup2.find(id='productTitle').get_text()\n",
    "    price = soup2.find(id='corePriceDisplay_desktop_feature_div').get_text()\n",
    "    price= price.strip()[:5]\n",
    "    title = title.strip()\n",
    "    \n",
    "    import datetime\n",
    "    today = datetime.date.today()\n",
    "    \n",
    "    import csv\n",
    "    header=['Title','Price','Date']\n",
    "    data=[title,price,today]\n",
    "    \n",
    "    with open('AmazonWebScraperDataset.csv','a+', newline='',encoding='UTF8') as f:\n",
    "        writer= csv.writer(f)\n",
    "        writer.writerow(data)"
   ]
  },
  {
   "cell_type": "code",
   "execution_count": 13,
   "id": "37d10e1f-a1c1-4105-bd75-cb938ebe1304",
   "metadata": {},
   "outputs": [
    {
     "ename": "KeyboardInterrupt",
     "evalue": "",
     "output_type": "error",
     "traceback": [
      "\u001b[1;31m---------------------------------------------------------------------------\u001b[0m",
      "\u001b[1;31mKeyboardInterrupt\u001b[0m                         Traceback (most recent call last)",
      "\u001b[1;32m~\\AppData\\Local\\Temp\\ipykernel_18228\\1780465071.py\u001b[0m in \u001b[0;36m<module>\u001b[1;34m\u001b[0m\n\u001b[0;32m      1\u001b[0m \u001b[1;32mwhile\u001b[0m\u001b[1;33m(\u001b[0m\u001b[1;32mTrue\u001b[0m\u001b[1;33m)\u001b[0m\u001b[1;33m:\u001b[0m\u001b[1;33m\u001b[0m\u001b[1;33m\u001b[0m\u001b[0m\n\u001b[0;32m      2\u001b[0m     \u001b[0mcheck_price\u001b[0m\u001b[1;33m(\u001b[0m\u001b[1;33m)\u001b[0m\u001b[1;33m\u001b[0m\u001b[1;33m\u001b[0m\u001b[0m\n\u001b[1;32m----> 3\u001b[1;33m     \u001b[0mtime\u001b[0m\u001b[1;33m.\u001b[0m\u001b[0msleep\u001b[0m\u001b[1;33m(\u001b[0m\u001b[1;36m10\u001b[0m\u001b[1;33m)\u001b[0m\u001b[1;33m\u001b[0m\u001b[1;33m\u001b[0m\u001b[0m\n\u001b[0m",
      "\u001b[1;31mKeyboardInterrupt\u001b[0m: "
     ]
    }
   ],
   "source": [
    "while(True):\n",
    "    check_price()\n",
    "    time.sleep(10)"
   ]
  },
  {
   "cell_type": "code",
   "execution_count": 14,
   "id": "1b79c917-4589-43b0-ab84-f4e6aeee655b",
   "metadata": {},
   "outputs": [
    {
     "name": "stdout",
     "output_type": "stream",
     "text": [
      "                                               Title  Price        date\n",
      "0  Funny Got Data Humor MIS Datensysteme Business...  17,95  2022-11-01\n",
      "1  Funny Got Data Humor MIS Datensysteme Business...  17,95  2022-11-01\n",
      "2  Funny Got Data Humor MIS Datensysteme Business...  17,95  2022-11-01\n",
      "3  Funny Got Data Humor MIS Datensysteme Business...  17,95  2022-11-01\n",
      "4  Funny Got Data Humor MIS Datensysteme Business...  17,95  2022-11-01\n"
     ]
    }
   ],
   "source": [
    "import pandas as pd\n",
    "dataF=pd.read_csv(r'C:\\Users\\Divyesh Jayswal\\AmazonWebScraperDataset.csv')\n",
    "\n",
    "print(dataF)"
   ]
  },
  {
   "cell_type": "code",
   "execution_count": null,
   "id": "aa6d476d-3cff-4ea6-8ea5-05e016073bb9",
   "metadata": {},
   "outputs": [],
   "source": [
    "while(True):\n",
    "    check_price()\n",
    "    time.sleep(86400)#for checking every 24 hours"
   ]
  },
  {
   "cell_type": "code",
   "execution_count": null,
   "id": "b883113a-7a0d-4da7-8939-e51ba0fa5b92",
   "metadata": {},
   "outputs": [],
   "source": [
    "import pandas as pd\n",
    "dataF=pd.read_csv(r'C:\\Users\\Divyesh Jayswal\\AmazonWebScraperDataset.csv')\n",
    "\n",
    "print(dataF)"
   ]
  },
  {
   "cell_type": "code",
   "execution_count": null,
   "id": "0c1404d7-c25d-4893-a945-62b634ff1044",
   "metadata": {},
   "outputs": [],
   "source": [
    "def check_price():\n",
    "    URL = 'https://www.amazon.de/Funny-Systeme-Business-Analyst-T-Shirt/dp/B09Y8WX4KG/ref=sr_1_1_sspa?crid=2UCKNONADCFNT&keywords=got+data+t+shirt&qid=1667301798&qu=eyJxc2MiOiIxLjU3IiwicXNhIjoiMC4wMCIsInFzcCI6IjAuMDAifQ%3D%3D&sprefix=got+data+t+shirt%2Caps%2C72&sr=8-1-spons&psc=1'\n",
    "    headers = {\"User-Agent\": \"Mozilla/5.0 (Windows NT 10.0; Win64; x64) AppleWebKit/537.36 (KHTML, like Gecko) Chrome/107.0.0.0 Safari/537.36 Edg/107.0.1418.26\"}\n",
    "    page  =requests.get(URL,headers=headers)\n",
    "    soup1 = BeautifulSoup(page.content,\"html.parser\")\n",
    "    soup2 =BeautifulSoup(soup1.prettify(),\"html.parser\")\n",
    "    title = soup2.find(id='productTitle').get_text()\n",
    "    price = soup2.find(id='corePriceDisplay_desktop_feature_div').get_text()\n",
    "    price= price.strip()[:5]\n",
    "    title = title.strip()\n",
    "    \n",
    "    import datetime\n",
    "    today = datetime.date.today()\n",
    "    \n",
    "    import csv\n",
    "    header=['Title','Price','Date']\n",
    "    data=[title,price,today]\n",
    "    \n",
    "    with open('AmazonWebScraperDataset.csv','a+', newline='',encoding='UTF8') as f:\n",
    "        writer= csv.writer(f)\n",
    "        writer.writerow(data)\n",
    "        \n",
    "        if(price<15):\n",
    "            send_mail()"
   ]
  },
  {
   "cell_type": "code",
   "execution_count": null,
   "id": "78f6ca8d-5903-4193-b2e9-57ad719fc5a8",
   "metadata": {},
   "outputs": [],
   "source": [
    "def send_mail():\n",
    "    server = smtplib.SMTP_SSL('smtp.gmail.com',465)\n",
    "    server.ehlo()\n",
    "    #server.starttls()\n",
    "    server.ehlo()\n",
    "    server.login('divyeshjayswal2001@gmail.com','xxxxxxx-xxxxx')\n",
    "    \n",
    "    subject=\"The Shirt you want is below 15!!\"\n",
    "    body=\"Divyesh this is the moment you have been waiting since long.. The shirt is now availabe below 15\"\n",
    "    \n",
    "    msg= f\"subject:{subject}\\n\\n{body}\"\n",
    "    server.sendmail('divyeshjayswal2001@gmail.com',msg)\n",
    "    \n"
   ]
  },
  {
   "cell_type": "code",
   "execution_count": null,
   "id": "dd9f9251-bad1-4980-b0c3-fea99eda2117",
   "metadata": {},
   "outputs": [],
   "source": []
  },
  {
   "cell_type": "code",
   "execution_count": null,
   "id": "01c975e1-581d-43fc-8998-7e2269ee8b1f",
   "metadata": {},
   "outputs": [],
   "source": []
  },
  {
   "cell_type": "code",
   "execution_count": null,
   "id": "1c875c08-3f0c-48e4-834d-fbee723906d0",
   "metadata": {},
   "outputs": [],
   "source": []
  },
  {
   "cell_type": "code",
   "execution_count": null,
   "id": "5c1b6e8f-846d-49d1-8fba-20ef30421f32",
   "metadata": {},
   "outputs": [],
   "source": []
  },
  {
   "cell_type": "code",
   "execution_count": null,
   "id": "2c373e39-21f1-4b64-9f67-92b76537e2a1",
   "metadata": {},
   "outputs": [],
   "source": []
  },
  {
   "cell_type": "code",
   "execution_count": null,
   "id": "daf51128-3fbe-4db8-8e51-c86eacbe8bdb",
   "metadata": {},
   "outputs": [],
   "source": []
  }
 ],
 "metadata": {
  "kernelspec": {
   "display_name": "Python 3 (ipykernel)",
   "language": "python",
   "name": "python3"
  },
  "language_info": {
   "codemirror_mode": {
    "name": "ipython",
    "version": 3
   },
   "file_extension": ".py",
   "mimetype": "text/x-python",
   "name": "python",
   "nbconvert_exporter": "python",
   "pygments_lexer": "ipython3",
   "version": "3.9.13"
  }
 },
 "nbformat": 4,
 "nbformat_minor": 5
}
